{
 "cells": [
  {
   "cell_type": "code",
   "execution_count": null,
   "metadata": {},
   "outputs": [],
   "source": [
    "import Sastrawi as sw\n",
    "from Sastrawi.Stemmer.StemmerFactory import StemmerFactory\n",
    "import pandas as pd\n",
    "\n",
    "factory = StemmerFactory()\n",
    "stemmer = factory.create_stemmer()\n"
   ]
  },
  {
   "cell_type": "code",
   "execution_count": 66,
   "metadata": {},
   "outputs": [],
   "source": [
    "data = pd.read_csv(\"data/id_kompetensi_flag_new.csv\", sep=\";\")"
   ]
  },
  {
   "cell_type": "code",
   "execution_count": null,
   "metadata": {},
   "outputs": [],
   "source": [
    "\n",
    "#lowerize data, remove special characters\n",
    "\n",
    "data['KOMPETENSI'] = data.loc[:,'KOMPETENSI'].str.lower()\n",
    "data['KOMPETENSI'] = data.loc[:,'KOMPETENSI'].replace()\n",
    "data = data.replace(regex={'KOMPETENSI': r'[^0-9a-zA-Z]+'}, value=' ')\n",
    "new_data = data.copy()\n",
    "new_data"
   ]
  },
  {
   "cell_type": "code",
   "execution_count": null,
   "metadata": {},
   "outputs": [],
   "source": [
    "for i in new_data.index:\n",
    "    old_str = new_data.at[i, 'KOMPETENSI']\n",
    "    new_data[i, 'KOMPETENSI'] = (stemmer.stem(old_str))\n",
    "    \n",
    "new_data"
   ]
  }
 ],
 "metadata": {
  "kernelspec": {
   "display_name": "Python 3",
   "language": "python",
   "name": "python3"
  },
  "language_info": {
   "codemirror_mode": {
    "name": "ipython",
    "version": 3
   },
   "file_extension": ".py",
   "mimetype": "text/x-python",
   "name": "python",
   "nbconvert_exporter": "python",
   "pygments_lexer": "ipython3",
   "version": "3.8.1"
  }
 },
 "nbformat": 4,
 "nbformat_minor": 4
}
